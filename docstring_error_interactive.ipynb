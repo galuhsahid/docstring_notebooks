{
 "cells": [
  {
   "cell_type": "markdown",
   "metadata": {},
   "source": [
    "**NOTE** This notebook is work under progress"
   ]
  },
  {
   "cell_type": "markdown",
   "metadata": {},
   "source": [
    "# Interactive exploration of current errors in pandas docstrings"
   ]
  },
  {
   "cell_type": "markdown",
   "metadata": {},
   "source": [
    "*DISCLAIMER: This notebook is based on the one uploaded by @dujm [here](https://github.com/python-sprints/pandas-mentoring/blob/master/notebooks/docstring_error_interactive.ipynb)*\n",
    "\n",
    "\n",
    "This notebook will help you detect which errors are still present on some of the docstrings of pandas, so that you can select one of them, fix it, and submit a PR to the [pandas repository](https://github.com/pandas-dev/pandas). \n",
    "\n",
    "**IMPORTANT!** Before starting to work on fixing an error, check that nobody is already working on it by searching the issues and PRs in the pandas repository. If you nobody is doing so, open an issue and let others know you will be fixing that docstring.\n",
    "\n",
    "This script currently supports pandas version >= 0.25.0"
   ]
  },
  {
   "cell_type": "markdown",
   "metadata": {},
   "source": [
    "Let's start by importing the necessary packages:"
   ]
  },
  {
   "cell_type": "code",
   "execution_count": 1,
   "metadata": {},
   "outputs": [
    {
     "ename": "ModuleNotFoundError",
     "evalue": "No module named 'qgrid'",
     "output_type": "error",
     "traceback": [
      "\u001b[0;31m---------------------------------------------------------------------------\u001b[0m",
      "\u001b[0;31mModuleNotFoundError\u001b[0m                       Traceback (most recent call last)",
      "\u001b[0;32m<ipython-input-1-91cab3aac569>\u001b[0m in \u001b[0;36m<module>\u001b[0;34m\u001b[0m\n\u001b[1;32m      6\u001b[0m \u001b[0;34m\u001b[0m\u001b[0m\n\u001b[1;32m      7\u001b[0m \u001b[0;32mimport\u001b[0m \u001b[0mipywidgets\u001b[0m \u001b[0;32mas\u001b[0m \u001b[0mwidgets\u001b[0m\u001b[0;34m\u001b[0m\u001b[0;34m\u001b[0m\u001b[0m\n\u001b[0;32m----> 8\u001b[0;31m \u001b[0;32mimport\u001b[0m \u001b[0mqgrid\u001b[0m\u001b[0;34m\u001b[0m\u001b[0;34m\u001b[0m\u001b[0m\n\u001b[0m",
      "\u001b[0;31mModuleNotFoundError\u001b[0m: No module named 'qgrid'"
     ]
    }
   ],
   "source": [
    "import os\n",
    "\n",
    "import pandas as pd\n",
    "import seaborn as sns\n",
    "import matplotlib.pyplot as plt\n",
    "\n",
    "import ipywidgets as widgets\n",
    "import qgrid"
   ]
  },
  {
   "cell_type": "markdown",
   "metadata": {},
   "source": [
    "## *Static exploration*"
   ]
  },
  {
   "cell_type": "markdown",
   "metadata": {},
   "source": [
    "## 1. Generate a .json containing all current errors"
   ]
  },
  {
   "cell_type": "markdown",
   "metadata": {},
   "source": [
    "This step was automatically done if you are running this notebook from Binder. Keep in mind that the .json file is updated every 15 minutes, so it might be outdated. When you select an error to work on, double check that nobody has submitted an issue to work on it already.\n",
    "\n",
    "If you want to generate the .json file locally, simply run the following command from your pandas clone:\n",
    "\n",
    "`./scripts/validate_docstrings.py --format=json > /path/to/json/pandas_docstring_errors.json`"
   ]
  },
  {
   "cell_type": "markdown",
   "metadata": {},
   "source": [
    "## 2. Plot a table describing the errors"
   ]
  },
  {
   "cell_type": "markdown",
   "metadata": {},
   "source": [
    "We will plot a table that indicates which pandas functions still have an error in their docstrings. The specific error code and description will be also described."
   ]
  },
  {
   "cell_type": "code",
   "execution_count": 47,
   "metadata": {
    "scrolled": true
   },
   "outputs": [
    {
     "data": {
      "text/html": [
       "<div>\n",
       "<style scoped>\n",
       "    .dataframe tbody tr th:only-of-type {\n",
       "        vertical-align: middle;\n",
       "    }\n",
       "\n",
       "    .dataframe tbody tr th {\n",
       "        vertical-align: top;\n",
       "    }\n",
       "\n",
       "    .dataframe thead th {\n",
       "        text-align: right;\n",
       "    }\n",
       "</style>\n",
       "<table border=\"1\" class=\"dataframe\">\n",
       "  <thead>\n",
       "    <tr style=\"text-align: right;\">\n",
       "      <th></th>\n",
       "      <th>function</th>\n",
       "      <th>file</th>\n",
       "      <th>file_line</th>\n",
       "      <th>error_code</th>\n",
       "      <th>error_description</th>\n",
       "    </tr>\n",
       "  </thead>\n",
       "  <tbody>\n",
       "    <tr>\n",
       "      <th>0</th>\n",
       "      <td>pandas.BooleanDtype</td>\n",
       "      <td>/core/arrays/boolean.py</td>\n",
       "      <td>39</td>\n",
       "      <td>SA01</td>\n",
       "      <td>See Also section not found</td>\n",
       "    </tr>\n",
       "    <tr>\n",
       "      <th>1</th>\n",
       "      <td>pandas.Categorical</td>\n",
       "      <td>/core/arrays/categorical.py</td>\n",
       "      <td>212</td>\n",
       "      <td>PR01</td>\n",
       "      <td>Parameters {'fastpath'} not documented</td>\n",
       "    </tr>\n",
       "    <tr>\n",
       "      <th>2</th>\n",
       "      <td>pandas.Categorical</td>\n",
       "      <td>/core/arrays/categorical.py</td>\n",
       "      <td>212</td>\n",
       "      <td>EX02</td>\n",
       "      <td>Examples do not pass tests:\\n*****************...</td>\n",
       "    </tr>\n",
       "    <tr>\n",
       "      <th>3</th>\n",
       "      <td>pandas.Categorical.__array__</td>\n",
       "      <td>/core/arrays/categorical.py</td>\n",
       "      <td>1271</td>\n",
       "      <td>ES01</td>\n",
       "      <td>No extended summary found</td>\n",
       "    </tr>\n",
       "    <tr>\n",
       "      <th>4</th>\n",
       "      <td>pandas.Categorical.__array__</td>\n",
       "      <td>/core/arrays/categorical.py</td>\n",
       "      <td>1271</td>\n",
       "      <td>PR01</td>\n",
       "      <td>Parameters {'dtype'} not documented</td>\n",
       "    </tr>\n",
       "    <tr>\n",
       "      <th>5</th>\n",
       "      <td>pandas.Categorical.__array__</td>\n",
       "      <td>/core/arrays/categorical.py</td>\n",
       "      <td>1271</td>\n",
       "      <td>SA01</td>\n",
       "      <td>See Also section not found</td>\n",
       "    </tr>\n",
       "    <tr>\n",
       "      <th>6</th>\n",
       "      <td>pandas.Categorical.__array__</td>\n",
       "      <td>/core/arrays/categorical.py</td>\n",
       "      <td>1271</td>\n",
       "      <td>EX01</td>\n",
       "      <td>No examples section found</td>\n",
       "    </tr>\n",
       "    <tr>\n",
       "      <th>7</th>\n",
       "      <td>pandas.Categorical.from_codes</td>\n",
       "      <td>/core/arrays/categorical.py</td>\n",
       "      <td>592</td>\n",
       "      <td>SA01</td>\n",
       "      <td>See Also section not found</td>\n",
       "    </tr>\n",
       "    <tr>\n",
       "      <th>8</th>\n",
       "      <td>pandas.CategoricalDtype</td>\n",
       "      <td>/core/dtypes/dtypes.py</td>\n",
       "      <td>168</td>\n",
       "      <td>SA04</td>\n",
       "      <td>Missing description for See Also \"Categorical\"...</td>\n",
       "    </tr>\n",
       "    <tr>\n",
       "      <th>9</th>\n",
       "      <td>pandas.CategoricalIndex</td>\n",
       "      <td>/core/indexes/category.py</td>\n",
       "      <td>69</td>\n",
       "      <td>EX02</td>\n",
       "      <td>Examples do not pass tests:\\n*****************...</td>\n",
       "    </tr>\n",
       "  </tbody>\n",
       "</table>\n",
       "</div>"
      ],
      "text/plain": [
       "                        function                         file file_line  \\\n",
       "0            pandas.BooleanDtype      /core/arrays/boolean.py        39   \n",
       "1             pandas.Categorical  /core/arrays/categorical.py       212   \n",
       "2             pandas.Categorical  /core/arrays/categorical.py       212   \n",
       "3   pandas.Categorical.__array__  /core/arrays/categorical.py      1271   \n",
       "4   pandas.Categorical.__array__  /core/arrays/categorical.py      1271   \n",
       "5   pandas.Categorical.__array__  /core/arrays/categorical.py      1271   \n",
       "6   pandas.Categorical.__array__  /core/arrays/categorical.py      1271   \n",
       "7  pandas.Categorical.from_codes  /core/arrays/categorical.py       592   \n",
       "8        pandas.CategoricalDtype       /core/dtypes/dtypes.py       168   \n",
       "9        pandas.CategoricalIndex    /core/indexes/category.py        69   \n",
       "\n",
       "  error_code                                  error_description  \n",
       "0       SA01                         See Also section not found  \n",
       "1       PR01             Parameters {'fastpath'} not documented  \n",
       "2       EX02  Examples do not pass tests:\\n*****************...  \n",
       "3       ES01                          No extended summary found  \n",
       "4       PR01                Parameters {'dtype'} not documented  \n",
       "5       SA01                         See Also section not found  \n",
       "6       EX01                          No examples section found  \n",
       "7       SA01                         See Also section not found  \n",
       "8       SA04  Missing description for See Also \"Categorical\"...  \n",
       "9       EX02  Examples do not pass tests:\\n*****************...  "
      ]
     },
     "execution_count": 47,
     "metadata": {},
     "output_type": "execute_result"
    }
   ],
   "source": [
    "# Import JSON as df\n",
    "file = 'pandas_docstring_errors.json'\n",
    "df = (pd.read_json(file)\n",
    "            .transpose()\n",
    "            .filter(items=['errors', 'file', 'file_line'])\n",
    "            .explode('errors')\n",
    "            .dropna()\n",
    "            .reset_index()\n",
    "            .rename(columns={\"index\": \"function\"})\n",
    "     )\n",
    "\n",
    "# Divide errors in their code and description\n",
    "df[['error_code','error_description']] = pd.DataFrame(df.errors.tolist())\n",
    "df = df.drop([\"errors\"], axis=1)\n",
    "\n",
    "# Print file name relative to pandas repository path\n",
    "df['file'] = df['file'].str.split('/pandas').str[1]\n",
    "\n",
    "# Show the ten first examples\n",
    "df.head(10)"
   ]
  },
  {
   "cell_type": "markdown",
   "metadata": {},
   "source": [
    "## 3. Count number of functions with errors per error type"
   ]
  },
  {
   "cell_type": "code",
   "execution_count": 3,
   "metadata": {
    "scrolled": false
   },
   "outputs": [
    {
     "data": {
      "text/html": [
       "<div>\n",
       "<style scoped>\n",
       "    .dataframe tbody tr th:only-of-type {\n",
       "        vertical-align: middle;\n",
       "    }\n",
       "\n",
       "    .dataframe tbody tr th {\n",
       "        vertical-align: top;\n",
       "    }\n",
       "\n",
       "    .dataframe thead th {\n",
       "        text-align: right;\n",
       "    }\n",
       "</style>\n",
       "<table border=\"1\" class=\"dataframe\">\n",
       "  <thead>\n",
       "    <tr style=\"text-align: right;\">\n",
       "      <th></th>\n",
       "      <th>error_code</th>\n",
       "      <th>counts</th>\n",
       "    </tr>\n",
       "  </thead>\n",
       "  <tbody>\n",
       "    <tr>\n",
       "      <th>0</th>\n",
       "      <td>SA01</td>\n",
       "      <td>376</td>\n",
       "    </tr>\n",
       "    <tr>\n",
       "      <th>1</th>\n",
       "      <td>EX01</td>\n",
       "      <td>369</td>\n",
       "    </tr>\n",
       "    <tr>\n",
       "      <th>2</th>\n",
       "      <td>ES01</td>\n",
       "      <td>355</td>\n",
       "    </tr>\n",
       "    <tr>\n",
       "      <th>3</th>\n",
       "      <td>RT03</td>\n",
       "      <td>296</td>\n",
       "    </tr>\n",
       "    <tr>\n",
       "      <th>4</th>\n",
       "      <td>GL08</td>\n",
       "      <td>242</td>\n",
       "    </tr>\n",
       "    <tr>\n",
       "      <th>5</th>\n",
       "      <td>EX02</td>\n",
       "      <td>240</td>\n",
       "    </tr>\n",
       "    <tr>\n",
       "      <th>6</th>\n",
       "      <td>SA04</td>\n",
       "      <td>239</td>\n",
       "    </tr>\n",
       "    <tr>\n",
       "      <th>7</th>\n",
       "      <td>PR01</td>\n",
       "      <td>223</td>\n",
       "    </tr>\n",
       "    <tr>\n",
       "      <th>8</th>\n",
       "      <td>PR07</td>\n",
       "      <td>214</td>\n",
       "    </tr>\n",
       "    <tr>\n",
       "      <th>9</th>\n",
       "      <td>EX03</td>\n",
       "      <td>144</td>\n",
       "    </tr>\n",
       "    <tr>\n",
       "      <th>10</th>\n",
       "      <td>RT02</td>\n",
       "      <td>122</td>\n",
       "    </tr>\n",
       "    <tr>\n",
       "      <th>11</th>\n",
       "      <td>PR02</td>\n",
       "      <td>98</td>\n",
       "    </tr>\n",
       "    <tr>\n",
       "      <th>12</th>\n",
       "      <td>SS06</td>\n",
       "      <td>81</td>\n",
       "    </tr>\n",
       "    <tr>\n",
       "      <th>13</th>\n",
       "      <td>PR08</td>\n",
       "      <td>10</td>\n",
       "    </tr>\n",
       "    <tr>\n",
       "      <th>14</th>\n",
       "      <td>YD01</td>\n",
       "      <td>4</td>\n",
       "    </tr>\n",
       "    <tr>\n",
       "      <th>15</th>\n",
       "      <td>PR06</td>\n",
       "      <td>4</td>\n",
       "    </tr>\n",
       "    <tr>\n",
       "      <th>16</th>\n",
       "      <td>PR09</td>\n",
       "      <td>1</td>\n",
       "    </tr>\n",
       "  </tbody>\n",
       "</table>\n",
       "</div>"
      ],
      "text/plain": [
       "   error_code  counts\n",
       "0        SA01     376\n",
       "1        EX01     369\n",
       "2        ES01     355\n",
       "3        RT03     296\n",
       "4        GL08     242\n",
       "5        EX02     240\n",
       "6        SA04     239\n",
       "7        PR01     223\n",
       "8        PR07     214\n",
       "9        EX03     144\n",
       "10       RT02     122\n",
       "11       PR02      98\n",
       "12       SS06      81\n",
       "13       PR08      10\n",
       "14       YD01       4\n",
       "15       PR06       4\n",
       "16       PR09       1"
      ]
     },
     "execution_count": 3,
     "metadata": {},
     "output_type": "execute_result"
    }
   ],
   "source": [
    "df_code = df['error_code'].value_counts().reset_index()\n",
    "df_code.columns = ['error_code','counts']\n",
    "\n",
    "df_code"
   ]
  },
  {
   "cell_type": "markdown",
   "metadata": {},
   "source": [
    "## 4. Count number of errors per function"
   ]
  },
  {
   "cell_type": "code",
   "execution_count": 4,
   "metadata": {},
   "outputs": [
    {
     "data": {
      "text/html": [
       "<div>\n",
       "<style scoped>\n",
       "    .dataframe tbody tr th:only-of-type {\n",
       "        vertical-align: middle;\n",
       "    }\n",
       "\n",
       "    .dataframe tbody tr th {\n",
       "        vertical-align: top;\n",
       "    }\n",
       "\n",
       "    .dataframe thead th {\n",
       "        text-align: right;\n",
       "    }\n",
       "</style>\n",
       "<table border=\"1\" class=\"dataframe\">\n",
       "  <thead>\n",
       "    <tr style=\"text-align: right;\">\n",
       "      <th></th>\n",
       "      <th>function</th>\n",
       "      <th>counts</th>\n",
       "    </tr>\n",
       "  </thead>\n",
       "  <tbody>\n",
       "    <tr>\n",
       "      <th>0</th>\n",
       "      <td>pandas.PeriodIndex</td>\n",
       "      <td>13</td>\n",
       "    </tr>\n",
       "    <tr>\n",
       "      <th>1</th>\n",
       "      <td>pandas.core.groupby.DataFrameGroupBy.boxplot</td>\n",
       "      <td>13</td>\n",
       "    </tr>\n",
       "    <tr>\n",
       "      <th>2</th>\n",
       "      <td>pandas.HDFStore.append</td>\n",
       "      <td>13</td>\n",
       "    </tr>\n",
       "    <tr>\n",
       "      <th>3</th>\n",
       "      <td>pandas.Series.cat.remove_unused_categories</td>\n",
       "      <td>11</td>\n",
       "    </tr>\n",
       "    <tr>\n",
       "      <th>4</th>\n",
       "      <td>pandas.CategoricalIndex.remove_unused_categories</td>\n",
       "      <td>11</td>\n",
       "    </tr>\n",
       "    <tr>\n",
       "      <th>...</th>\n",
       "      <td>...</td>\n",
       "      <td>...</td>\n",
       "    </tr>\n",
       "    <tr>\n",
       "      <th>1068</th>\n",
       "      <td>pandas.tseries.offsets.CustomBusinessMonthBegi...</td>\n",
       "      <td>1</td>\n",
       "    </tr>\n",
       "    <tr>\n",
       "      <th>1069</th>\n",
       "      <td>pandas.tseries.offsets.QuarterOffset.is_anchored</td>\n",
       "      <td>1</td>\n",
       "    </tr>\n",
       "    <tr>\n",
       "      <th>1070</th>\n",
       "      <td>pandas.tseries.offsets.MonthEnd.isAnchored</td>\n",
       "      <td>1</td>\n",
       "    </tr>\n",
       "    <tr>\n",
       "      <th>1071</th>\n",
       "      <td>pandas.tseries.offsets.Milli.isAnchored</td>\n",
       "      <td>1</td>\n",
       "    </tr>\n",
       "    <tr>\n",
       "      <th>1072</th>\n",
       "      <td>pandas.tseries.offsets.CustomBusinessDay.is_on...</td>\n",
       "      <td>1</td>\n",
       "    </tr>\n",
       "  </tbody>\n",
       "</table>\n",
       "<p>1073 rows × 2 columns</p>\n",
       "</div>"
      ],
      "text/plain": [
       "                                               function  counts\n",
       "0                                    pandas.PeriodIndex      13\n",
       "1          pandas.core.groupby.DataFrameGroupBy.boxplot      13\n",
       "2                                pandas.HDFStore.append      13\n",
       "3            pandas.Series.cat.remove_unused_categories      11\n",
       "4      pandas.CategoricalIndex.remove_unused_categories      11\n",
       "...                                                 ...     ...\n",
       "1068  pandas.tseries.offsets.CustomBusinessMonthBegi...       1\n",
       "1069   pandas.tseries.offsets.QuarterOffset.is_anchored       1\n",
       "1070         pandas.tseries.offsets.MonthEnd.isAnchored       1\n",
       "1071            pandas.tseries.offsets.Milli.isAnchored       1\n",
       "1072  pandas.tseries.offsets.CustomBusinessDay.is_on...       1\n",
       "\n",
       "[1073 rows x 2 columns]"
      ]
     },
     "execution_count": 4,
     "metadata": {},
     "output_type": "execute_result"
    }
   ],
   "source": [
    "df_function = df['function'].value_counts().reset_index()\n",
    "df_function.columns = ['function','counts']\n",
    "\n",
    "df_function"
   ]
  },
  {
   "cell_type": "markdown",
   "metadata": {},
   "source": [
    "## *Interactive exploration* "
   ]
  },
  {
   "cell_type": "markdown",
   "metadata": {},
   "source": [
    "Select an error from the following dropdown menu to see a complete description and example of it, and the number of that type of errors in pandas:"
   ]
  },
  {
   "cell_type": "code",
   "execution_count": 5,
   "metadata": {},
   "outputs": [
    {
     "data": {
      "application/vnd.jupyter.widget-view+json": {
       "model_id": "30e77e0df6df4ed4b8c28fa855a5b5af",
       "version_major": 2,
       "version_minor": 0
      },
      "text/plain": [
       "Dropdown(description='Error:', options=('ES01', 'EX01', 'EX02', 'EX03', 'GL01', 'GL08', 'PR01', 'PR02', 'PR06'…"
      ]
     },
     "metadata": {},
     "output_type": "display_data"
    }
   ],
   "source": [
    "# Create dropdown widget\n",
    "def unique_sorted_values(array):\n",
    "    unique = array.unique().tolist()\n",
    "    unique.sort()\n",
    "    return unique\n",
    "\n",
    "dropdown_widget = widgets.Dropdown(options=unique_sorted_values(df_code.error_code),\n",
    "                                   description='Error:')\n",
    "dropdown_widget\n",
    "\n",
    "## TODO: Use observe to print error description"
   ]
  },
  {
   "cell_type": "markdown",
   "metadata": {},
   "source": [
    "You can filter the following table by the error code you want to work on, or its function."
   ]
  },
  {
   "cell_type": "code",
   "execution_count": 6,
   "metadata": {
    "scrolled": true
   },
   "outputs": [
    {
     "data": {
      "application/vnd.jupyter.widget-view+json": {
       "model_id": "ac9e069282814721a73ee0011e22bcde",
       "version_major": 2,
       "version_minor": 0
      },
      "text/plain": [
       "QgridWidget(grid_options={'fullWidthRows': True, 'syncColumnCellResize': True, 'forceFitColumns': True, 'defau…"
      ]
     },
     "metadata": {},
     "output_type": "display_data"
    }
   ],
   "source": [
    "# Create qgrid widget\n",
    "qgrid_widget = qgrid.show_grid(df, grid_options={'forceFitColumns': True})\n",
    "qgrid_widget"
   ]
  },
  {
   "cell_type": "code",
   "execution_count": null,
   "metadata": {},
   "outputs": [],
   "source": []
  },
  {
   "cell_type": "code",
   "execution_count": null,
   "metadata": {},
   "outputs": [],
   "source": []
  },
  {
   "cell_type": "code",
   "execution_count": null,
   "metadata": {},
   "outputs": [],
   "source": []
  },
  {
   "cell_type": "code",
   "execution_count": null,
   "metadata": {},
   "outputs": [],
   "source": []
  }
 ],
 "metadata": {
  "kernelspec": {
   "display_name": "Python 3",
   "language": "python",
   "name": "python3"
  },
  "language_info": {
   "codemirror_mode": {
    "name": "ipython",
    "version": 3
   },
   "file_extension": ".py",
   "mimetype": "text/x-python",
   "name": "python",
   "nbconvert_exporter": "python",
   "pygments_lexer": "ipython3",
   "version": "3.7.6"
  }
 },
 "nbformat": 4,
 "nbformat_minor": 2
}
